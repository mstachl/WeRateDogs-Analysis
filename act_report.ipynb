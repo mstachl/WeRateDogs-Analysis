{
 "cells": [
  {
   "cell_type": "markdown",
   "id": "ebc639ce",
   "metadata": {},
   "source": [
    "# Act Report\n",
    "\n",
    "by Markus Stachl, 18.07.2021"
   ]
  },
  {
   "cell_type": "markdown",
   "id": "2ec2b490",
   "metadata": {},
   "source": [
    "## Background\n",
    "\n",
    "WeRateDogs is a Twitter account that enthusiastically rates people's dogs with a humorous comment about the dog. As of July 2021 WeRateDogs has over 9 million followers, 14k tweets and has received international media coverage. \n",
    "\n",
    "The popularity of the account and the volume of its recorded media makes it a perfect candidate to gain insights by data analysis."
   ]
  },
  {
   "cell_type": "markdown",
   "id": "1a5b19f6",
   "metadata": {},
   "source": [
    "## Methodology"
   ]
  },
  {
   "cell_type": "markdown",
   "id": "d0df6cc3",
   "metadata": {},
   "source": [
    "As a basis 2000+ tweets were gathered between 2015 and 2017 and scraped from the WeRateDogs Twitter account. Basic tweet information was extended by use of the Tweepy API. Furthermore, Udacity provided the results of a neural net determining the breed of each dog based on its image.\n",
    "Cleaning the dataset by excluding retweets, replies and non-dog-related tweets left me with approx. 1800 tweets remaining for analysis."
   ]
  },
  {
   "cell_type": "markdown",
   "id": "32ca125a",
   "metadata": {},
   "source": [
    "## Insights"
   ]
  },
  {
   "cell_type": "markdown",
   "id": "114c1e4c",
   "metadata": {},
   "source": [
    "### (Almost) every dog is a goooood boy"
   ]
  },
  {
   "cell_type": "markdown",
   "id": "04496ae8",
   "metadata": {},
   "source": [
    "WeRateDogs usually rate dogs on a scale of 1-10. Nevertheless, the majority of dogs are rated at least the full score, many dogs are rated even higher. Particularly, 3 out of 4 dogs are rated 10/10 or higher.\n",
    "\n",
    "Be this we confirm what was already known before: We love dogs because... they are dogs!"
   ]
  },
  {
   "cell_type": "markdown",
   "id": "637fd06c",
   "metadata": {},
   "source": [
    "<img src=\"tweet_ratings.jpg\" width=\"500\" height=\"500\" align=\"center\"/>"
   ]
  },
  {
   "cell_type": "markdown",
   "id": "54ff2cdd",
   "metadata": {},
   "source": [
    "### Samoyeds are the best\n",
    "\n",
    "Even though every dog is a good boy, there has the be a winner. And with the given dataset it is ... the Samoyed! Honestly, I had to google this breed, but after checking out a couple of pictures, it is clear so see why.\n",
    "\n",
    "Also, pugs seem to be rated lower compared to competing breeds. And I would lie saying I was not entirely unpleased.."
   ]
  },
  {
   "cell_type": "markdown",
   "id": "d8497f94",
   "metadata": {},
   "source": [
    "<img src=\"Rating-by-breed.jpg\" width=\"500\" height=\"500\" align=\"center\"/>"
   ]
  },
  {
   "cell_type": "markdown",
   "id": "14a34773",
   "metadata": {},
   "source": [
    "### The majority of tweets are golden\n",
    "\n",
    "While Samoyeds receive the highest ratings from WeRateDogs, the majority of tweets contain Golden Retrievers. If this is the case due to user preferences when supplying images, or personal preference of WeRateDogs leaves ground for speculation."
   ]
  },
  {
   "cell_type": "markdown",
   "id": "6917f86b",
   "metadata": {},
   "source": [
    "<img src=\"tweets-by-breed.jpg\" width=\"500\" height=\"500\" align=\"center\"/>"
   ]
  },
  {
   "cell_type": "markdown",
   "id": "b2bb95a9",
   "metadata": {},
   "source": [
    "### Puppies are not favoured\n",
    "\n",
    "One might expect that puppy images are liked and retweeted most often compared to their older counterparts. I mean, who can honestly say they can resist a photo of baby dogs running around. I certainly can't.\n",
    "Nevertheless, the data does not show any correlation between dog stage and retweet count, suggesting that the age of a dog alone does not suffice to predict user's retweet behavior. "
   ]
  },
  {
   "cell_type": "markdown",
   "id": "3182e463",
   "metadata": {},
   "source": [
    "<img src=\"retweets-by-dog-stage.jpg\" width=\"500\" height=\"500\" align=\"center\"/>"
   ]
  }
 ],
 "metadata": {
  "kernelspec": {
   "display_name": "Python 3",
   "language": "python",
   "name": "python3"
  },
  "language_info": {
   "codemirror_mode": {
    "name": "ipython",
    "version": 3
   },
   "file_extension": ".py",
   "mimetype": "text/x-python",
   "name": "python",
   "nbconvert_exporter": "python",
   "pygments_lexer": "ipython3",
   "version": "3.6.13"
  }
 },
 "nbformat": 4,
 "nbformat_minor": 5
}
